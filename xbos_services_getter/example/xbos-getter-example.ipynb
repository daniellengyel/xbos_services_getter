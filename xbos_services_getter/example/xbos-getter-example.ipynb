{
 "cells": [
  {
   "cell_type": "code",
   "execution_count": 1,
   "metadata": {},
   "outputs": [],
   "source": [
    "import datetime\n",
    "import pytz\n",
    "import xbos_services_getter\n",
    "import math"
   ]
  },
  {
   "cell_type": "code",
   "execution_count": null,
   "metadata": {},
   "outputs": [],
   "source": [
    "xbos_services_getter.get_outdoor_"
   ]
  },
  {
   "cell_type": "code",
   "execution_count": 2,
   "metadata": {},
   "outputs": [
    {
     "ename": "AttributeError",
     "evalue": "module 'xbos_services_getter' has no attribute 'get_outdoor_prediction_stub'",
     "output_type": "error",
     "traceback": [
      "\u001b[0;31m---------------------------------------------------------------------------\u001b[0m",
      "\u001b[0;31mAttributeError\u001b[0m                            Traceback (most recent call last)",
      "\u001b[0;32m<ipython-input-2-53702e267349>\u001b[0m in \u001b[0;36m<module>\u001b[0;34m\u001b[0m\n\u001b[1;32m     11\u001b[0m \u001b[0moccupancy_stub\u001b[0m \u001b[0;34m=\u001b[0m \u001b[0mxbos_services_getter\u001b[0m\u001b[0;34m.\u001b[0m\u001b[0mget_occupancy_stub\u001b[0m\u001b[0;34m(\u001b[0m\u001b[0mXBOS_MICROSERVICES_HOST_ADDRESS\u001b[0m\u001b[0;34m)\u001b[0m\u001b[0;34m\u001b[0m\u001b[0;34m\u001b[0m\u001b[0m\n\u001b[1;32m     12\u001b[0m \u001b[0moutdoor_temperature_historical_stub\u001b[0m \u001b[0;34m=\u001b[0m \u001b[0mxbos_services_getter\u001b[0m\u001b[0;34m.\u001b[0m\u001b[0mget_outdoor_historic_stub\u001b[0m\u001b[0;34m(\u001b[0m\u001b[0mXBOS_MICROSERVICES_HOST_ADDRESS\u001b[0m\u001b[0;34m)\u001b[0m\u001b[0;34m\u001b[0m\u001b[0;34m\u001b[0m\u001b[0m\n\u001b[0;32m---> 13\u001b[0;31m \u001b[0moutdoor_temperature_prediction_stub\u001b[0m \u001b[0;34m=\u001b[0m \u001b[0mxbos_services_getter\u001b[0m\u001b[0;34m.\u001b[0m\u001b[0mget_outdoor_prediction_stub\u001b[0m\u001b[0;34m(\u001b[0m\u001b[0mXBOS_MICROSERVICES_HOST_ADDRESS\u001b[0m\u001b[0;34m)\u001b[0m\u001b[0;34m\u001b[0m\u001b[0;34m\u001b[0m\u001b[0m\n\u001b[0m\u001b[1;32m     14\u001b[0m \u001b[0mbuilding_zone_names_stub\u001b[0m \u001b[0;34m=\u001b[0m \u001b[0mxbos_services_getter\u001b[0m\u001b[0;34m.\u001b[0m\u001b[0mget_building_zone_names_stub\u001b[0m\u001b[0;34m(\u001b[0m\u001b[0mXBOS_MICROSERVICES_HOST_ADDRESS\u001b[0m\u001b[0;34m)\u001b[0m\u001b[0;34m\u001b[0m\u001b[0;34m\u001b[0m\u001b[0m\n\u001b[1;32m     15\u001b[0m \u001b[0mindoor_data_historical_stub\u001b[0m \u001b[0;34m=\u001b[0m \u001b[0mxbos_services_getter\u001b[0m\u001b[0;34m.\u001b[0m\u001b[0mget_indoor_historic_stub\u001b[0m\u001b[0;34m(\u001b[0m\u001b[0mXBOS_MICROSERVICES_HOST_ADDRESS\u001b[0m\u001b[0;34m)\u001b[0m\u001b[0;34m\u001b[0m\u001b[0;34m\u001b[0m\u001b[0m\n",
      "\u001b[0;31mAttributeError\u001b[0m: module 'xbos_services_getter' has no attribute 'get_outdoor_prediction_stub'"
     ]
    }
   ],
   "source": [
    "# HOST_ADDRESS FOR ALL MICROSERVICES\n",
    "XBOS_MICROSERVICES_HOST_ADDRESS=None #\"FILL_ME_IN\"\n",
    "XBOS_MICROSERVICES_HOST_ADDRESS=\"ms.xbos.io:9001\"\n",
    "# CREATE A STUB TO EACH MICROSERVICE THAT YOU USE \n",
    "# DO NOT CALL MORE THAN ONCE PER SESSION\n",
    "# THIS STUB ONLY GETS CALLED ONCE TO ESTABLISH A CONNECTION TO THE SERVICE\n",
    "discomfort_stub = xbos_services_getter.get_discomfort_stub(XBOS_MICROSERVICES_HOST_ADDRESS)\n",
    "hvac_consumption_stub = xbos_services_getter.get_hvac_consumption_stub(XBOS_MICROSERVICES_HOST_ADDRESS)\n",
    "temperature_bands_stub = xbos_services_getter.get_temperature_band_stub(XBOS_MICROSERVICES_HOST_ADDRESS)\n",
    "price_stub = xbos_services_getter.get_price_stub(XBOS_MICROSERVICES_HOST_ADDRESS)\n",
    "occupancy_stub = xbos_services_getter.get_occupancy_stub(XBOS_MICROSERVICES_HOST_ADDRESS)\n",
    "outdoor_temperature_historical_stub = xbos_services_getter.get_outdoor_historic_stub(XBOS_MICROSERVICES_HOST_ADDRESS)\n",
    "outdoor_temperature_prediction_stub = xbos_services_getter.get_outdoor_prediction_stub(XBOS_MICROSERVICES_HOST_ADDRESS)\n",
    "building_zone_names_stub = xbos_services_getter.get_building_zone_names_stub(XBOS_MICROSERVICES_HOST_ADDRESS)\n",
    "indoor_data_historical_stub = xbos_services_getter.get_indoor_historic_stub(XBOS_MICROSERVICES_HOST_ADDRESS)\n",
    "indoor_temperature_prediction_stub = xbos_services_getter.get_indoor_temperature_prediction_stub(XBOS_MICROSERVICES_HOST_ADDRESS)\n",
    "meter_data_historical_stub = xbos_services_getter.get_meter_data_historical_stub(XBOS_MICROSERVICES_HOST_ADDRESS)\n",
    "optimizer_stub = xbos_services_getter.get_optimizer_stub(XBOS_MICROSERVICES_HOST_ADDRESS)"
   ]
  },
  {
   "cell_type": "code",
   "execution_count": null,
   "metadata": {
    "collapsed": true
   },
   "outputs": [],
   "source": [
    "# ALTERNATIVELY YOU CAN DEFINE THE FOLLOWING ENVIRONMENT VARIABLES FOR THE SERVICES YOU NEED\n",
    "# FOR EXAMPLE FOR BASH YOU CAN USE \n",
    "\n",
    "# export DISCOMFORT_HOST_ADDRESS=\"FILL_ME_IN\"\n",
    "# export HVAC_CONSUMPTION_HOST_ADDRESS=\"FILL_ME_IN\"\n",
    "# export TEMPERATURE_BANDS_HOST_ADDRESS=\"FILL_ME_IN\"\n",
    "# export PRICE_HOST_ADDRESS=\"FILL_ME_IN\"\n",
    "# export OCCUPANCY_HOST_ADDRESS=\"FILL_ME_IN\"\n",
    "# export OUTDOOR_TEMPERATURE_HISTORICAL_HOST_ADDRESS=\"FILL_ME_IN\"\n",
    "# export OUTDOOR_TEMPERATURE_PREDICTION_HOST_ADDRESS=\"FILL_ME_IN\"\n",
    "# export BUILDING_ZONE_NAMES_HOST_ADDRESS=\"FILL_ME_IN\"\n",
    "# export INDOOR_DATA_HISTORICAL_HOST_ADDRESS=\"FILL_ME_IN\"\n",
    "# export INDOOR_TEMPERATURE_PREDICTION_HOST_ADDRESS=\"FILL_ME_IN\"\n",
    "# export METER_DATA_HISTORICAL_HOST_ADDRESS=\"FILL_ME_IN\"\n",
    "# export OPTIMIZER_HOST_ADDRESS=\"FILL_ME_IN\"\n",
    "\n",
    "# THEN YOU CAN CREATE A STUB TO EACH MICROSERVICE THAT YOU USE WITHOUT PASSING IN AN ADDRESS\n",
    "# THIS STUB ONLY GETS CALLED ONCE TO ESTABLISH A CONNECTION TO THE SERVICE \n",
    "\n",
    "# discomfort_stub = xbos_services_getter.get_discomfort_stub()\n",
    "# hvac_consumption_stub = xbos_services_getter.get_hvac_consumption_stub()\n",
    "# temperature_bands_stub = xbos_services_getter.get_temperature_band_stub()\n",
    "# price_stub = xbos_services_getter.get_price_stub()\n",
    "# occupancy_stub = xbos_services_getter.get_occupancy_stub()\n",
    "# outdoor_temperature_historical_stub = xbos_services_getter.get_outdoor_historic_stub()\n",
    "# outdoor_temperature_prediction_stub = xbos_services_getter.get_outdoor_prediction_stub()\n",
    "# building_zone_names_stub = xbos_services_getter.get_building_zone_names_stub()\n",
    "# indoor_data_historical_stub = xbos_services_getter.get_indoor_historic_stub()\n",
    "# indoor_temperature_prediction_stub = xbos_services_getter.get_indoor_temperature_prediction_stub()\n",
    "# meter_data_historical_stub = xbos_services_getter.get_meter_data_historical_stub()\n",
    "# optimizer_stub = xbos_services_getter.get_optimizer_stub()"
   ]
  },
  {
   "cell_type": "code",
   "execution_count": null,
   "metadata": {},
   "outputs": [],
   "source": [
    "# GET A LIST OF ALL BUILDINGS \n",
    "buildings = xbos_services_getter.get_buildings(building_zone_names_stub)\n",
    "print(\"List of buildings:\",buildings)\n",
    "\n",
    "# GET ALL ZONES FOR EACH BUILDING\n",
    "for bldg in buildings:\n",
    "    zones = xbos_services_getter.get_zones(building_zone_names_stub,bldg)\n",
    "    print(\"List of zones in building:\",bldg,\"are:\",zones)\n",
    "    \n",
    "# ALTERNATIVELY YOU CAN GET A DICTIONARY OF ALL BUILDINGS AND ZONES WITH ONE CALL\n",
    "buildings_zones = xbos_services_getter.get_all_buildings_zones(building_zone_names_stub)\n",
    "print(\"All buildings and zones:\",buildings_zones)"
   ]
  },
  {
   "cell_type": "code",
   "execution_count": null,
   "metadata": {},
   "outputs": [],
   "source": [
    "# GET HISTORICAL OR FORECAST PRICE FOR EACH BUILDING (UP TO 24 HOURS IN THE FUTURE)\n",
    "# EXAMPLE TO RETRIEVE PRICE DATA FOR ONE DAY AT ONE HOUR INTERVAL STARTING JAN 1ST 2019\n",
    "start = pytz.timezone('US/Pacific').localize(datetime.datetime(year=2019, month=1, day=1, hour=0, minute=0))\n",
    "end = start + datetime.timedelta(days=1)\n",
    "window = \"1h\"\n",
    "\n",
    "# ENERGY OR DEMAND PRICES\n",
    "energy_price_type = 'ENERGY' \n",
    "demand_price_type = 'DEMAND'\n",
    "\n",
    "# GET ALL AVAILABLE TARIFFS AND UTILITIES\n",
    "all_tarrifs_and_utilities = xbos_services_getter.get_all_tariffs(price_stub)\n",
    "\n",
    "# GET THE PRICE FOR A GIVEN TARIFF AND UTILITY\n",
    "for tarrif_utility in all_tarrifs_and_utilities:\n",
    "    print(tarrif_utility)\n",
    "    energy_price = xbos_services_getter.get_price_utility_tariff(price_stub,tarrif_utility[\"utility\"],tarrif_utility[\"tariff\"],energy_price_type,start,end,window)\n",
    "    demand_price = xbos_services_getter.get_price_utility_tariff(price_stub,tarrif_utility[\"utility\"],tarrif_utility[\"tariff\"],demand_price_type,start,end,window)\n",
    "    print(energy_price)\n",
    "    print(demand_price)\n",
    "\n",
    "# GET ALL BUILDINGS\n",
    "buildings = xbos_services_getter.get_buildings(building_zone_names_stub)\n",
    "\n",
    "# GET THE TARIFF AND UTILITY FOR A GIVEN BUILDING THEN USE THIS INFORMATION TO GET THE PRICE FOR THE GIVEN BUILDING\n",
    "for bldg in buildings:\n",
    "    tarrif_utility = xbos_services_getter.get_tariff_and_utility(price_stub,bldg)\n",
    "    print(bldg,tarrif_utility)\n",
    "    energy_price = xbos_services_getter.get_price_utility_tariff(price_stub,tarrif_utility[\"utility\"],tarrif_utility[\"tariff\"],energy_price_type,start,end,window)\n",
    "    demand_price = xbos_services_getter.get_price_utility_tariff(price_stub,tarrif_utility[\"utility\"],tarrif_utility[\"tariff\"],demand_price_type,start,end,window)\n",
    "    print(energy_price)\n",
    "    print(demand_price)\n",
    "\n",
    "# ALTERNATIVELY YOU CAN ALSO GET THE PRICE FOR A GIVEN BUILDING DIRECTLY\n",
    "for bldg in buildings:\n",
    "    print(bldg)\n",
    "    energy_price = xbos_services_getter.get_price(price_stub,bldg,energy_price_type,start,end,window)\n",
    "    demand_price = xbos_services_getter.get_price(price_stub,bldg,demand_price_type,start,end,window)\n",
    "    print(energy_price)\n",
    "    print(demand_price)"
   ]
  },
  {
   "cell_type": "code",
   "execution_count": null,
   "metadata": {},
   "outputs": [],
   "source": [
    "# GET HISTORICAL BUILDING METER & GREENBUTTON DATA\n",
    "# EXAMPLE TO RETRIEVE DATA FOR ONE DAY AT ONE HOUR INTERVAL STARTING JAN 1ST 2019\n",
    "start = pytz.timezone('US/Pacific').localize(datetime.datetime(year=2019, month=1, day=1, hour=0, minute=0))\n",
    "end = start + datetime.timedelta(days=1)\n",
    "window = \"1h\"\n",
    "\n",
    "# GET ALL BUILDINGS\n",
    "buildings = xbos_services_getter.get_buildings(building_zone_names_stub)\n",
    "\n",
    "# DEFINE POINT AND AGGREGATION TYPES\n",
    "electric_point_type = 'Building_Electric_Meter'\n",
    "greenbutton_point_type = 'Green_Button_Meter'\n",
    "aggregate = 'MEAN' # MEAN, MAX, MIN, COUNT, SUM and RAW\n",
    "\n",
    "# GET HISTORICAL BUILDING METER & GREENBUTTON DATA FOR EACH BUILDING\n",
    "for bldg in buildings:\n",
    "    print(bldg)\n",
    "    # NO METER OR GREENBUTTON DATA FOR csu-dominguez-hills\n",
    "    if bldg == \"csu-dominguez-hills\":\n",
    "        print(\"no meter or greenbutton data for csu-dominguez-hills\")\n",
    "        continue\n",
    "    # NO GREENBUTTON DATA FOR jesse-turner-center\n",
    "    if bldg == \"jesse-turner-center\":\n",
    "        electric_meter_data = xbos_services_getter.get_meter_data_historical(meter_data_historical_stub,bldg,start,end,electric_point_type,aggregate,window)\n",
    "        print(electric_meter_data)\n",
    "        continue\n",
    "    electric_meter_data = xbos_services_getter.get_meter_data_historical(meter_data_historical_stub,bldg,start,end,electric_point_type,aggregate,window)\n",
    "    greenbutton_meter_data = xbos_services_getter.get_meter_data_historical(meter_data_historical_stub,bldg,start,end,greenbutton_point_type,aggregate,window)\n",
    "    print(electric_meter_data)\n",
    "    print(greenbutton_meter_data)"
   ]
  },
  {
   "cell_type": "code",
   "execution_count": null,
   "metadata": {},
   "outputs": [],
   "source": [
    "# GET HISTORICAL OUTDOOR TEMPERATURE \n",
    "# EXAMPLE TO RETRIEVE DATA FOR ONE DAY AT ONE HOUR INTERVAL STARTING JAN 1ST 2019\n",
    "start = pytz.timezone('US/Pacific').localize(datetime.datetime(year=2019, month=1, day=1, hour=0, minute=0))\n",
    "end = start + datetime.timedelta(days=1)\n",
    "window = \"1h\"\n",
    "\n",
    "# GET ALL BUILDINGS\n",
    "buildings = xbos_services_getter.get_buildings(building_zone_names_stub)\n",
    "\n",
    "# GET OUTDOOR TEMPERATURE FOR EACH BUILDING\n",
    "for bldg in buildings:\n",
    "    print(bldg)\n",
    "    historical_outdoor_temperature = xbos_services_getter.get_outdoor_temperature_historic(outdoor_temperature_historical_stub,bldg,start,end,window)\n",
    "    print(historical_outdoor_temperature)"
   ]
  },
  {
   "cell_type": "code",
   "execution_count": null,
   "metadata": {},
   "outputs": [],
   "source": [
    "# GET OUTDOOR TEMPERATURE PREDICTION\n",
    "# EXAMPLE TO PREDICT TEMPERATURE FOR ONE DAY AT ONE HOUR INTERVAL STARTING AN HOUR FROM NOW\n",
    "future_start = pytz.timezone('US/Pacific').localize(datetime.datetime.now())+ datetime.timedelta(hours=1)\n",
    "future_end = future_start + datetime.timedelta(days=1)\n",
    "window = \"1h\"\n",
    "\n",
    "# GET ALL BUILDINGS\n",
    "buildings = xbos_services_getter.get_buildings(building_zone_names_stub)\n",
    "\n",
    "# GET OUTDOOR TEMPERATURE PREDICTION FOR EACH BUILDING\n",
    "for bldg in buildings:\n",
    "    print(bldg)\n",
    "    outdoor_temperature_prediction = xbos_services_getter.get_outdoor_temperature_prediction(outdoor_temperature_prediction_stub,bldg,future_start,future_end,window)\n",
    "    print(outdoor_temperature_prediction)"
   ]
  },
  {
   "cell_type": "code",
   "execution_count": null,
   "metadata": {},
   "outputs": [],
   "source": [
    "# GET HISTORICAL HVAC DATA (INDOOR TEMPERATURE, HVAC STATE, COOLING SETPOINT, HEATING SETPOING)\n",
    "# EXAMPLE TO RETRIEVE DATA FOR ONE DAY AT ONE HOUR INTERVAL STARTING JAN 1ST 2019\n",
    "start = pytz.timezone('US/Pacific').localize(datetime.datetime(year=2019, month=1, day=1, hour=0, minute=0))\n",
    "end = start + datetime.timedelta(days=1)\n",
    "window = \"1h\"\n",
    "\n",
    "# GET ALL BUILDINGS\n",
    "buildings = xbos_services_getter.get_buildings(building_zone_names_stub)\n",
    "\n",
    "# GET HISTORICAL HVAC DATA FOR EACH ZONE IN EACH BUILDING \n",
    "for bldg in buildings:\n",
    "    zones = xbos_services_getter.get_zones(building_zone_names_stub,bldg)\n",
    "    for zone in zones:\n",
    "        actions = xbos_services_getter.get_actions_historic(indoor_data_historical_stub,bldg,zone,start,end,window)\n",
    "        indoor_temperatures = xbos_services_getter.get_indoor_temperature_historic(indoor_data_historical_stub,bldg,zone,start,end,window)\n",
    "        setpoints = xbos_services_getter.get_setpoints_historic(indoor_data_historical_stub,bldg,zone,start,end,window)\n",
    "        print(bldg,zone)\n",
    "        print(actions)\n",
    "        print(indoor_temperatures)\n",
    "        print(setpoints[\"t_low\"])\n",
    "        print(setpoints[\"t_high\"])"
   ]
  },
  {
   "cell_type": "code",
   "execution_count": null,
   "metadata": {},
   "outputs": [],
   "source": [
    "# GET OCCUPANCY DATA\n",
    "# EXAMPLE TO RETRIEVE DATA FOR ONE DAY AT ONE HOUR INTERVAL STARTING JAN 1ST 2019\n",
    "start = pytz.timezone('US/Pacific').localize(datetime.datetime(year=2019, month=1, day=1, hour=0, minute=0))\n",
    "end = start + datetime.timedelta(days=1)\n",
    "window = \"1h\"\n",
    "\n",
    "# GET ALL BUILDINGS\n",
    "buildings = xbos_services_getter.get_buildings(building_zone_names_stub)\n",
    "\n",
    "# GET OCCUPANCY FOR EACH ZONE IN EACH BUILDING\n",
    "for bldg in buildings:\n",
    "    zones = xbos_services_getter.get_zones(building_zone_names_stub,bldg)\n",
    "    for zone in zones:\n",
    "        occupancy = xbos_services_getter.get_occupancy(occupancy_stub,bldg,zone,start,end,window)\n",
    "        print(bldg,zone)\n",
    "        print(occupancy)"
   ]
  },
  {
   "cell_type": "code",
   "execution_count": null,
   "metadata": {},
   "outputs": [],
   "source": [
    "# GET COMFORT BAND AND DO NOT EXCEED BAND DATA\n",
    "# EXAMPLE TO RETRIEVE DATA FOR ONE DAY AT ONE HOUR INTERVAL STARTING JAN 1ST 2019\n",
    "start = pytz.timezone('US/Pacific').localize(datetime.datetime(year=2019, month=1, day=1, hour=0, minute=0))\n",
    "end = start + datetime.timedelta(days=1)\n",
    "window = \"1h\"\n",
    "\n",
    "# GET ALL BUILDINGS\n",
    "buildings = xbos_services_getter.get_buildings(building_zone_names_stub)\n",
    "\n",
    "# GET COMFORT BAND AND DO NOT EXCEED BAND FOR EACH ZONE IN EACH BUILDING\n",
    "for bldg in buildings:\n",
    "    zones = xbos_services_getter.get_zones(building_zone_names_stub,bldg)\n",
    "    for zone in zones:\n",
    "        comfort_band = xbos_services_getter.get_comfortband(temperature_bands_stub,bldg,zone,start,end,window)\n",
    "        do_not_exceed_band = xbos_services_getter.get_do_not_exceed(temperature_bands_stub,bldg,zone,start,end,window)\n",
    "        print(bldg,zone)\n",
    "        print(comfort_band)\n",
    "        print(do_not_exceed_band)"
   ]
  },
  {
   "cell_type": "code",
   "execution_count": null,
   "metadata": {},
   "outputs": [],
   "source": [
    "# GET A DISCOMFORT METRIC FOR A GIVEN TEMPERATURE, COMFORT BAND, AND OCCUPANCY\n",
    "# EXAMPLE TO RETRIEVE DATA FOR ONE DAY AT ONE HOUR INTERVAL STARTING JAN 1ST 2019\n",
    "start = pytz.timezone('US/Pacific').localize(datetime.datetime(year=2019, month=1, day=1, hour=0, minute=0))\n",
    "end = start + datetime.timedelta(days=1)\n",
    "window = \"1h\"\n",
    "\n",
    "# GET ALL BUILDINGS\n",
    "buildings = xbos_services_getter.get_buildings(building_zone_names_stub)\n",
    "\n",
    "# GET A DISCOMFORT METRIC FOR EVERY ZONE IN EVERY BUILDING\n",
    "for bldg in buildings:\n",
    "    zones = xbos_services_getter.get_zones(building_zone_names_stub,bldg)\n",
    "    for zone in zones:\n",
    "        print(bldg,zone)\n",
    "        # GET THE HISTORICAL INDOOR TEMPERATURE, COMFORT BAND, AND OCCUPANCY\n",
    "        indoor_temperatures = xbos_services_getter.get_indoor_temperature_historic(indoor_data_historical_stub,bldg,zone,start,end,window)\n",
    "        comfort_band = xbos_services_getter.get_comfortband(temperature_bands_stub,bldg,zone,start,end,window)\n",
    "        occupancies = xbos_services_getter.get_occupancy(occupancy_stub,bldg,zone,start,end,window)\n",
    "        for temperature,temperature_low,temperature_high,occupancy in zip(indoor_temperatures,comfort_band[\"t_low\"],comfort_band[\"t_high\"],occupancies):\n",
    "            if any(math.isnan(v) for v in [temperature,temperature_low,temperature_high,occupancy]):\n",
    "                continue\n",
    "            # GET A DISCOMFORT METRIC FOR A GIVEN TEMPERATURE, COMFORT BAND, AND OCCUPANCY\n",
    "            discomfort = xbos_services_getter.get_discomfort(discomfort_stub,'bldg',temperature,temperature_low,temperature_high,occupancy)\n",
    "            print(temperature,temperature_low,temperature_high,occupancy,discomfort)"
   ]
  },
  {
   "cell_type": "code",
   "execution_count": null,
   "metadata": {
    "collapsed": true
   },
   "outputs": [],
   "source": [
    "# GET HVAC CONSUMPTION (FACE PLATE VALUE)\n",
    "# EXAMPLE TO RETRIEVE DATA FOR ONE DAY AT ONE HOUR INTERVAL STARTING JAN 1ST 2019\n",
    "start = pytz.timezone('US/Pacific').localize(datetime.datetime(year=2019, month=1, day=1, hour=0, minute=0))\n",
    "end = start + datetime.timedelta(d0ays=1)\n",
    "window = \"1h\"\n",
    "\n",
    "# GET ALL BUILDINGS\n",
    "buildings = xbos_services_getter.get_buildings(building_zone_names_stub)\n",
    "\n",
    "# GET HVAC CONSUMPTION FOR A GIVEN ZONE IN A GIVEN BUILDING\n",
    "for bldg in buildings:\n",
    "    zones = xbos_services_getter.get_zones(building_zone_names_stub,bldg)\n",
    "    for zone in zones:\n",
    "        hvac_consumption = xbos_services_getter.get_hvac_consumption(hvac_consumption_stub,bldg,zone)\n",
    "        print(bldg,zone,hvac_consumption)"
   ]
  },
  {
   "cell_type": "code",
   "execution_count": null,
   "metadata": {},
   "outputs": [],
   "source": [
    "# GET INDOOR TEMPERATURE PREDICTION GIVEN AN HVAC ACTION (NO_ACTION, HEATING_ACTION, COOLING_ACTION, FAN, TWO_STAGE_HEATING_ACTION, TWO_STAGE_COOLING_ACTION)\n",
    "# EXAMPLE TO PREDICT TEMPERATURE FOR ONE HOUR STARTING JAN 1ST 2019 AT 01:00:00\n",
    "start = pytz.timezone('US/Pacific').localize(datetime.datetime(year=2019, month=1, day=1, hour=0, minute=0))\n",
    "end = start + datetime.timedelta(hours=3)\n",
    "window = \"1h\"\n",
    "\n",
    "# GET ALL BUILDINGS\n",
    "buildings = xbos_services_getter.get_buildings(building_zone_names_stub)\n",
    "\n",
    "# GET INDOOR TEMPERATURE PREDICTION FOR A ZONE IN A BUILDING GIVEN AN ACTION \n",
    "action = xbos_services_getter.NO_ACTION # NO_ACTION, HEATING_ACTION, COOLING_ACTION, FAN, TWO_STAGE_HEATING_ACTION, TWO_STAGE_COOLING_ACTION\n",
    "for bldg in buildings:\n",
    "    outdoor_temperatures = xbos_services_getter.get_outdoor_temperature_historic(outdoor_temperature_historical_stub,bldg,start,end,window)\n",
    "    outdoor_temperature = outdoor_temperatures[1]  \n",
    "    zones = xbos_services_getter.get_zones(building_zone_names_stub,bldg)\n",
    "    current_zones_temp = {}\n",
    "    prev_zones_temp = {}\n",
    "    for zone in zones:\n",
    "        indoor_temp = xbos_services_getter.get_indoor_temperature_historic(indoor_data_historical_stub,bldg,zone,start,end,window)\n",
    "        prev_zones_temp[zone] = indoor_temp[0]\n",
    "        current_zones_temp[zone]= indoor_temp[1]\n",
    "    for zone in zones:\n",
    "        # THESE BUILDINGS DON'T HAVE A THERMAL MODEL YET\n",
    "        if(bldg=='csu-dominguez-hills' or bldg=='local-butcher-shop' or bldg=='avenal-recreation-center'):\n",
    "            continue\n",
    "        print(bldg,zone)\n",
    "        temperature_prediction = xbos_services_getter.get_indoor_temperature_prediction(indoor_temperature_prediction_stub,bldg,zone,start,action,current_zones_temp[zone],outdoor_temperature,prev_zones_temp[zone],current_zones_temp)\n",
    "        print(temperature_prediction)"
   ]
  },
  {
   "cell_type": "code",
   "execution_count": 3,
   "metadata": {},
   "outputs": [
    {
     "name": "stdout",
     "output_type": "stream",
     "text": [
      "jesse-turner-center hvac_zone_resource_center\n"
     ]
    },
    {
     "ename": "_Rendezvous",
     "evalue": "<_Rendezvous of RPC that terminated with:\n\tstatus = StatusCode.CANCELLED\n\tdetails = \"Received http2 header with status: 404\"\n\tdebug_error_string = \"{\"created\":\"@1557188694.948487000\",\"description\":\"Received http2 :status header with non-200 OK status\",\"file\":\"src/core/ext/filters/http/client/http_client_filter.cc\",\"file_line\":100,\"grpc_message\":\"Received http2 header with status: 404\",\"grpc_status\":1,\"value\":\"404\"}\"\n>",
     "output_type": "error",
     "traceback": [
      "\u001b[0;31m---------------------------------------------------------------------------\u001b[0m",
      "\u001b[0;31m_Rendezvous\u001b[0m                               Traceback (most recent call last)",
      "\u001b[0;32m<ipython-input-3-1141af081cb5>\u001b[0m in \u001b[0;36m<module>\u001b[0;34m\u001b[0m\n\u001b[1;32m     21\u001b[0m     \u001b[0;32mfor\u001b[0m \u001b[0mzone\u001b[0m \u001b[0;32min\u001b[0m \u001b[0mzones\u001b[0m\u001b[0;34m:\u001b[0m\u001b[0;34m\u001b[0m\u001b[0;34m\u001b[0m\u001b[0m\n\u001b[1;32m     22\u001b[0m         \u001b[0mprint\u001b[0m\u001b[0;34m(\u001b[0m\u001b[0mbldg\u001b[0m\u001b[0;34m,\u001b[0m\u001b[0mzone\u001b[0m\u001b[0;34m)\u001b[0m\u001b[0;34m\u001b[0m\u001b[0;34m\u001b[0m\u001b[0m\n\u001b[0;32m---> 23\u001b[0;31m         \u001b[0mzone_actions\u001b[0m \u001b[0;34m=\u001b[0m \u001b[0mxbos_services_getter\u001b[0m\u001b[0;34m.\u001b[0m\u001b[0mget_mpc_optimization\u001b[0m\u001b[0;34m(\u001b[0m\u001b[0moptimizer_stub\u001b[0m\u001b[0;34m,\u001b[0m\u001b[0mbldg\u001b[0m\u001b[0;34m,\u001b[0m\u001b[0mzones\u001b[0m\u001b[0;34m,\u001b[0m\u001b[0mstart\u001b[0m\u001b[0;34m,\u001b[0m\u001b[0mopt_end\u001b[0m\u001b[0;34m,\u001b[0m\u001b[0mwindow\u001b[0m\u001b[0;34m,\u001b[0m\u001b[0mlambda_val\u001b[0m\u001b[0;34m,\u001b[0m\u001b[0mstarting_temperatures\u001b[0m\u001b[0;34m)\u001b[0m\u001b[0;34m\u001b[0m\u001b[0;34m\u001b[0m\u001b[0m\n\u001b[0m\u001b[1;32m     24\u001b[0m         \u001b[0mprint\u001b[0m\u001b[0;34m(\u001b[0m\u001b[0mzone_actions\u001b[0m\u001b[0;34m)\u001b[0m\u001b[0;34m\u001b[0m\u001b[0;34m\u001b[0m\u001b[0m\n",
      "\u001b[0;32m~/miniconda3/envs/venv-dr3/lib/python3.6/site-packages/xbos_services_getter/xbos_services_getter.py\u001b[0m in \u001b[0;36mget_mpc_optimization\u001b[0;34m(optimizer_stub, building, zones, start, end, window, lambda_val, starting_temperatures, unit)\u001b[0m\n\u001b[1;32m    841\u001b[0m             \u001b[0mlambda_val\u001b[0m\u001b[0;34m=\u001b[0m\u001b[0mlambda_val\u001b[0m\u001b[0;34m,\u001b[0m\u001b[0;34m\u001b[0m\u001b[0;34m\u001b[0m\u001b[0m\n\u001b[1;32m    842\u001b[0m             \u001b[0mstarting_temperatures\u001b[0m\u001b[0;34m=\u001b[0m\u001b[0mstarting_temperatures\u001b[0m\u001b[0;34m,\u001b[0m\u001b[0;34m\u001b[0m\u001b[0;34m\u001b[0m\u001b[0m\n\u001b[0;32m--> 843\u001b[0;31m             unit=unit))\n\u001b[0m\u001b[1;32m    844\u001b[0m \u001b[0;34m\u001b[0m\u001b[0m\n\u001b[1;32m    845\u001b[0m     \u001b[0;32mreturn\u001b[0m \u001b[0;34m{\u001b[0m\u001b[0miter_zone\u001b[0m\u001b[0;34m:\u001b[0m \u001b[0moptimizer_response\u001b[0m\u001b[0;34m.\u001b[0m\u001b[0mactions\u001b[0m\u001b[0;34m[\u001b[0m\u001b[0miter_zone\u001b[0m\u001b[0;34m]\u001b[0m \u001b[0;32mfor\u001b[0m \u001b[0miter_zone\u001b[0m \u001b[0;32min\u001b[0m \u001b[0mzones\u001b[0m\u001b[0;34m}\u001b[0m\u001b[0;34m\u001b[0m\u001b[0;34m\u001b[0m\u001b[0m\n",
      "\u001b[0;32m~/miniconda3/envs/venv-dr3/lib/python3.6/site-packages/grpc/_channel.py\u001b[0m in \u001b[0;36m__call__\u001b[0;34m(self, request, timeout, metadata, credentials)\u001b[0m\n\u001b[1;32m    531\u001b[0m     \u001b[0;32mdef\u001b[0m \u001b[0m__call__\u001b[0m\u001b[0;34m(\u001b[0m\u001b[0mself\u001b[0m\u001b[0;34m,\u001b[0m \u001b[0mrequest\u001b[0m\u001b[0;34m,\u001b[0m \u001b[0mtimeout\u001b[0m\u001b[0;34m=\u001b[0m\u001b[0;32mNone\u001b[0m\u001b[0;34m,\u001b[0m \u001b[0mmetadata\u001b[0m\u001b[0;34m=\u001b[0m\u001b[0;32mNone\u001b[0m\u001b[0;34m,\u001b[0m \u001b[0mcredentials\u001b[0m\u001b[0;34m=\u001b[0m\u001b[0;32mNone\u001b[0m\u001b[0;34m)\u001b[0m\u001b[0;34m:\u001b[0m\u001b[0;34m\u001b[0m\u001b[0;34m\u001b[0m\u001b[0m\n\u001b[1;32m    532\u001b[0m         \u001b[0mstate\u001b[0m\u001b[0;34m,\u001b[0m \u001b[0mcall\u001b[0m\u001b[0;34m,\u001b[0m \u001b[0;34m=\u001b[0m \u001b[0mself\u001b[0m\u001b[0;34m.\u001b[0m\u001b[0m_blocking\u001b[0m\u001b[0;34m(\u001b[0m\u001b[0mrequest\u001b[0m\u001b[0;34m,\u001b[0m \u001b[0mtimeout\u001b[0m\u001b[0;34m,\u001b[0m \u001b[0mmetadata\u001b[0m\u001b[0;34m,\u001b[0m \u001b[0mcredentials\u001b[0m\u001b[0;34m)\u001b[0m\u001b[0;34m\u001b[0m\u001b[0;34m\u001b[0m\u001b[0m\n\u001b[0;32m--> 533\u001b[0;31m         \u001b[0;32mreturn\u001b[0m \u001b[0m_end_unary_response_blocking\u001b[0m\u001b[0;34m(\u001b[0m\u001b[0mstate\u001b[0m\u001b[0;34m,\u001b[0m \u001b[0mcall\u001b[0m\u001b[0;34m,\u001b[0m \u001b[0;32mFalse\u001b[0m\u001b[0;34m,\u001b[0m \u001b[0;32mNone\u001b[0m\u001b[0;34m)\u001b[0m\u001b[0;34m\u001b[0m\u001b[0;34m\u001b[0m\u001b[0m\n\u001b[0m\u001b[1;32m    534\u001b[0m \u001b[0;34m\u001b[0m\u001b[0m\n\u001b[1;32m    535\u001b[0m     \u001b[0;32mdef\u001b[0m \u001b[0mwith_call\u001b[0m\u001b[0;34m(\u001b[0m\u001b[0mself\u001b[0m\u001b[0;34m,\u001b[0m \u001b[0mrequest\u001b[0m\u001b[0;34m,\u001b[0m \u001b[0mtimeout\u001b[0m\u001b[0;34m=\u001b[0m\u001b[0;32mNone\u001b[0m\u001b[0;34m,\u001b[0m \u001b[0mmetadata\u001b[0m\u001b[0;34m=\u001b[0m\u001b[0;32mNone\u001b[0m\u001b[0;34m,\u001b[0m \u001b[0mcredentials\u001b[0m\u001b[0;34m=\u001b[0m\u001b[0;32mNone\u001b[0m\u001b[0;34m)\u001b[0m\u001b[0;34m:\u001b[0m\u001b[0;34m\u001b[0m\u001b[0;34m\u001b[0m\u001b[0m\n",
      "\u001b[0;32m~/miniconda3/envs/venv-dr3/lib/python3.6/site-packages/grpc/_channel.py\u001b[0m in \u001b[0;36m_end_unary_response_blocking\u001b[0;34m(state, call, with_call, deadline)\u001b[0m\n\u001b[1;32m    465\u001b[0m             \u001b[0;32mreturn\u001b[0m \u001b[0mstate\u001b[0m\u001b[0;34m.\u001b[0m\u001b[0mresponse\u001b[0m\u001b[0;34m\u001b[0m\u001b[0;34m\u001b[0m\u001b[0m\n\u001b[1;32m    466\u001b[0m     \u001b[0;32melse\u001b[0m\u001b[0;34m:\u001b[0m\u001b[0;34m\u001b[0m\u001b[0;34m\u001b[0m\u001b[0m\n\u001b[0;32m--> 467\u001b[0;31m         \u001b[0;32mraise\u001b[0m \u001b[0m_Rendezvous\u001b[0m\u001b[0;34m(\u001b[0m\u001b[0mstate\u001b[0m\u001b[0;34m,\u001b[0m \u001b[0;32mNone\u001b[0m\u001b[0;34m,\u001b[0m \u001b[0;32mNone\u001b[0m\u001b[0;34m,\u001b[0m \u001b[0mdeadline\u001b[0m\u001b[0;34m)\u001b[0m\u001b[0;34m\u001b[0m\u001b[0;34m\u001b[0m\u001b[0m\n\u001b[0m\u001b[1;32m    468\u001b[0m \u001b[0;34m\u001b[0m\u001b[0m\n\u001b[1;32m    469\u001b[0m \u001b[0;34m\u001b[0m\u001b[0m\n",
      "\u001b[0;31m_Rendezvous\u001b[0m: <_Rendezvous of RPC that terminated with:\n\tstatus = StatusCode.CANCELLED\n\tdetails = \"Received http2 header with status: 404\"\n\tdebug_error_string = \"{\"created\":\"@1557188694.948487000\",\"description\":\"Received http2 :status header with non-200 OK status\",\"file\":\"src/core/ext/filters/http/client/http_client_filter.cc\",\"file_line\":100,\"grpc_message\":\"Received http2 header with status: 404\",\"grpc_status\":1,\"value\":\"404\"}\"\n>"
     ]
    }
   ],
   "source": [
    "# GET A SEQUENCE OF MPC OPTIMIZATION ACTIONS\n",
    "# EXAMPLE TO GET ACTIONS (BASED ON MPC OPTIMIZATION) FOR FOUR HOURS STARTING JAN 1ST 2019\n",
    "start = pytz.timezone('US/Pacific').localize(datetime.datetime(year=2019, month=1, day=1, hour=0, minute=0))\n",
    "temp_end = start + datetime.timedelta(hours=1)\n",
    "opt_end = start + datetime.timedelta(hours=5)\n",
    "window = \"15m\"\n",
    "\n",
    "# GET ALL BUILDINGS\n",
    "buildings = xbos_services_getter.get_buildings(building_zone_names_stub)\n",
    "\n",
    "# RATIO BETWEEN DISCOMFORT AND COST\n",
    "lambda_val = 0.5 # float between 0 and 1. The lambda value to balance cost and discomfort.\n",
    "\n",
    "# GET AN MPC OPTIMIZATION ACTION FOR EACH ZONE IN EACH BUILDING\n",
    "for bldg in buildings:\n",
    "    starting_temperatures = {}\n",
    "    zones = xbos_services_getter.get_zones(building_zone_names_stub,bldg)\n",
    "    for zone in zones:\n",
    "        indoor_temperatures = xbos_services_getter.get_indoor_temperature_historic(indoor_data_historical_stub,bldg,zone,start,temp_end,window)\n",
    "        starting_temperatures[zone]=indoor_temperatures[0]\n",
    "    for zone in zones:\n",
    "        print(bldg,zone)\n",
    "        zone_actions = xbos_services_getter.get_mpc_optimization(optimizer_stub,bldg,zones,start,opt_end,window,lambda_val,starting_temperatures)\n",
    "        print(zone_actions)"
   ]
  },
  {
   "cell_type": "code",
   "execution_count": 6,
   "metadata": {},
   "outputs": [],
   "source": []
  },
  {
   "cell_type": "code",
   "execution_count": 7,
   "metadata": {},
   "outputs": [
    {
     "data": {
      "text/plain": [
       "[{'tariff': 'PGEFLAT06', 'utility': 'PGE'},\n",
       " {'tariff': 'PGEA01', 'utility': 'PGE'},\n",
       " {'tariff': 'PGEA06', 'utility': 'PGE'},\n",
       " {'tariff': 'PGEA10', 'utility': 'PGE'},\n",
       " {'tariff': 'PGEE19', 'utility': 'PGE'},\n",
       " {'tariff': 'PGEE20', 'utility': 'PGE'},\n",
       " {'tariff': 'SCE08B', 'utility': 'SCE'},\n",
       " {'tariff': 'SCETGS3', 'utility': 'SCE'}]"
      ]
     },
     "execution_count": 7,
     "metadata": {},
     "output_type": "execute_result"
    }
   ],
   "source": []
  },
  {
   "cell_type": "code",
   "execution_count": null,
   "metadata": {
    "collapsed": true
   },
   "outputs": [],
   "source": []
  }
 ],
 "metadata": {
  "kernelspec": {
   "display_name": "Python (venv-dr3)\n",
   "language": "python",
   "name": "venv-dr3"
  },
  "language_info": {
   "codemirror_mode": {
    "name": "ipython",
    "version": 3
   },
   "file_extension": ".py",
   "mimetype": "text/x-python",
   "name": "python",
   "nbconvert_exporter": "python",
   "pygments_lexer": "ipython3",
   "version": "3.6.8"
  }
 },
 "nbformat": 4,
 "nbformat_minor": 2
}
