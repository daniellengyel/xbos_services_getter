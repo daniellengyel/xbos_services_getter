{
 "cells": [
  {
   "cell_type": "code",
   "execution_count": null,
   "metadata": {},
   "outputs": [],
   "source": [
    "import datetime\n",
    "import pytz\n",
    "import xbos_services_getter"
   ]
  },
  {
   "cell_type": "code",
   "execution_count": null,
   "metadata": {
    "collapsed": true
   },
   "outputs": [],
   "source": [
    "# HOST_ADDRESSES FOR ALL MICROSERVICES\n",
    "# NEED TO ONLY DEFINE THE ADDRESS FOR THE SERVICES YOU USE\n",
    "# CAN ALSO BE SET AS AN ENVIRONMENT VARIABLE OR IN BASH PROFILE\n",
    "DISCOMFORT_HOST_ADDRESS=None #\"FILL_ME_IN\"\n",
    "HVAC_CONSUMPTION_HOST_ADDRESS=None #\"FILL_ME_IN\"\n",
    "TEMPERATURE_BANDS_HOST_ADDRESS=None #\"FILL_ME_IN\"\n",
    "PRICE_HOST_ADDRESS=None #\"FILL_ME_IN\"\n",
    "OCCUPANCY_HOST_ADDRESS=None #\"FILL_ME_IN\"\n",
    "OUTDOOR_TEMPERATURE_HISTORICAL_HOST_ADDRESS=None #\"FILL_ME_IN\"\n",
    "BUILDING_ZONE_NAMES_HOST_ADDRESS=None #\"FILL_ME_IN\"\n",
    "INDOOR_DATA_HISTORICAL_HOST_ADDRESS=None #\"FILL_ME_IN\"\n",
    "INDOOR_TEMPERATURE_PREDICTION_HOST_ADDRESS=None #\"FILL_ME_IN\"\n",
    "METER_DATA_HISTORICAL_HOST_ADDRESS=None #\"FILL_ME_IN\"\n",
    "OPTIMIZER_HOST_ADDRESS=None #\"FILL_ME_IN\""
   ]
  },
  {
   "cell_type": "code",
   "execution_count": null,
   "metadata": {
    "collapsed": true
   },
   "outputs": [],
   "source": [
    "# CREATE A STUB TO EACH MICROSERVICE THAT YOU USE\n",
    "# THIS STUB ONLY GETS CALLED ONCE TO ESTABLISH A CONNECTION TO THE SERVICE\n",
    "discomfort_stub = xbos_services_getter.get_discomfort_stub(DISCOMFORT_HOST_ADDRESS)\n",
    "hvac_consumption_stub = xbos_services_getter.get_hvac_consumption_stub(HVAC_CONSUMPTION_HOST_ADDRESS)\n",
    "temperature_bands_stub = xbos_services_getter.get_temperature_band_stub(TEMPERATURE_BANDS_HOST_ADDRESS)\n",
    "price_stub = xbos_services_getter.get_price_stub(PRICE_HOST_ADDRESS)\n",
    "occupancy_stub = xbos_services_getter.get_occupancy_stub(OCCUPANCY_HOST_ADDRESS)\n",
    "outdoor_temperature_historical_stub = xbos_services_getter.get_outdoor_historic_stub(OUTDOOR_TEMPERATURE_HISTORICAL_HOST_ADDRESS)\n",
    "building_zone_names_stub = xbos_services_getter.get_building_zone_names_stub(BUILDING_ZONE_NAMES_HOST_ADDRESS)\n",
    "indoor_data_historical_stub = xbos_services_getter.get_indoor_historic_stub(INDOOR_DATA_HISTORICAL_HOST_ADDRESS)\n",
    "indoor_temperature_prediction_stub = xbos_services_getter.get_indoor_temperature_prediction_stub(INDOOR_TEMPERATURE_PREDICTION_HOST_ADDRESS)\n",
    "meter_data_historical_stub = xbos_services_getter.get_meter_data_historical_stub(METER_DATA_HISTORICAL_HOST_ADDRESS)\n",
    "# optimizer_stub = xbos_services_getter.get_optimizer_stub(OPTIMIZER_HOST_ADDRESS)"
   ]
  },
  {
   "cell_type": "code",
   "execution_count": null,
   "metadata": {},
   "outputs": [],
   "source": [
    "# GET A LIST OF ALL BUILDINGS \n",
    "buildings = xbos_services_getter.get_buildings(building_zone_names_stub)\n",
    "print(\"List of buildings:\",buildings)\n",
    "\n",
    "# GET ALL ZONES FOR EACH BUILDING\n",
    "for bldg in buildings:\n",
    "    zones = xbos_services_getter.get_zones(building_zone_names_stub,bldg)\n",
    "    print(\"List of zones in building:\",bldg,\"are:\",zones)\n",
    "    \n",
    "# ALTERNATIVELY YOU CAN GET A DICTIONARY OF ALL BUILDINGS AND ZONES WITH ONE CALL\n",
    "buildings_zones = xbos_services_getter.get_all_buildings_zones(building_zone_names_stub)\n",
    "print(\"All buildings and zones:\",buildings_zones)"
   ]
  },
  {
   "cell_type": "code",
   "execution_count": null,
   "metadata": {
    "collapsed": true
   },
   "outputs": [],
   "source": [
    "# EXAMPLE TO RETRIEVE DATA FOR ONE DAY AT ONE HOUR INTERVAL STARTING JAN 1ST 2019\n",
    "start = pytz.timezone('US/Pacific').localize(datetime.datetime(year=2019, month=4, day=1, hour=0, minute=0))\n",
    "end = start + datetime.timedelta(days=1)\n",
    "window = \"1h\""
   ]
  },
  {
   "cell_type": "code",
   "execution_count": null,
   "metadata": {},
   "outputs": [],
   "source": [
    "# GET HISTORICAL OR FORECAST PRICE FOR EACH BUILDING (UP TO 24 HOURS IN THE FUTURE)\n",
    "energy_price_type = 'ENERGY' \n",
    "demand_price_type = 'DEMAND'\n",
    "\n",
    "# GET ALL AVAILABLE TARIFFS AND UTILITIES\n",
    "all_tarrifs_and_utilities = xbos_services_getter.get_all_tariffs(price_stub)\n",
    "\n",
    "# GET THE HISTORICAL PRICE FOR A GIVEN TARIFF AND UTILITY\n",
    "for tarrif_utility in all_tarrifs_and_utilities:\n",
    "    print(tarrif_utility)\n",
    "    energy_price = xbos_services_getter.get_price_utility_tariff(price_stub,tarrif_utility[\"utility\"],tarrif_utility[\"tariff\"],energy_price_type,start,end,window)\n",
    "    demand_price = xbos_services_getter.get_price_utility_tariff(price_stub,tarrif_utility[\"utility\"],tarrif_utility[\"tariff\"],demand_price_type,start,end,window)\n",
    "    print(energy_price)\n",
    "    print(demand_price)\n",
    "\n",
    "# GET THE TARIFF AND UTILITY FOR A GIVEN BUILDING\n",
    "for bldg in buildings:\n",
    "    tarrif_utility = xbos_services_getter.get_tariff_and_utility(price_stub,bldg)\n",
    "    print(bldg,tarrif_utility)\n",
    "    energy_price = xbos_services_getter.get_price_utility_tariff(price_stub,tarrif_utility[\"utility\"],tarrif_utility[\"tariff\"],energy_price_type,start,end,window)\n",
    "    demand_price = xbos_services_getter.get_price_utility_tariff(price_stub,tarrif_utility[\"utility\"],tarrif_utility[\"tariff\"],demand_price_type,start,end,window)\n",
    "    print(energy_price)\n",
    "    print(demand_price)\n",
    "\n",
    "# YOU CAN ALSO GET THE PRICE FOR A GIVEN BUILDING DIRECTLY\n",
    "for bldg in buildings:\n",
    "    print(bldg)\n",
    "    energy_price = xbos_services_getter.get_price(price_stub,bldg,energy_price_type,start,end,window)\n",
    "    demand_price = xbos_services_getter.get_price(price_stub,bldg,demand_price_type,start,end,window)\n",
    "    print(energy_price)\n",
    "    print(demand_price)"
   ]
  },
  {
   "cell_type": "code",
   "execution_count": null,
   "metadata": {},
   "outputs": [],
   "source": [
    "# GET HISTORICAL BUILDING METER & GREENBUTTON DATA FOR EACH BUILDING\n",
    "# MEAN, MAX, MIN, COUNT, SUM and RAW\n",
    "electric_point_type = 'Building_Electric_Meter'\n",
    "greenbutton_point_type = 'Green_Button_Meter'\n",
    "aggregate = 'MEAN' # MEAN, MAX, MIN, COUNT, SUM and RAW\n",
    "for bldg in buildings:\n",
    "    print(bldg)\n",
    "    # NO METER DATA FOR csu-dominguez-hills\n",
    "    if bldg == \"csu-dominguez-hills\":\n",
    "        continue\n",
    "    # NO GREENBUTTON DATA FOR jesse-turner-center\n",
    "    if bldg == \"jesse-turner-center\":\n",
    "        electric_meter_data = xbos_services_getter.get_meter_data_historical(meter_data_historical_stub,bldg,start,end,electric_point_type,aggregate,window)\n",
    "        print(electric_meter_data)\n",
    "        continue\n",
    "    electric_meter_data = xbos_services_getter.get_meter_data_historical(meter_data_historical_stub,bldg,start,end,electric_point_type,aggregate,window)\n",
    "    greenbutton_meter_data = xbos_services_getter.get_meter_data_historical(meter_data_historical_stub,bldg,start,end,greenbutton_point_type,aggregate,window)\n",
    "    print(electric_meter_data)\n",
    "    print(greenbutton_meter_data)"
   ]
  },
  {
   "cell_type": "code",
   "execution_count": null,
   "metadata": {},
   "outputs": [],
   "source": [
    "# GET HISTORICAL OUTDOOR TEMPERATURE FOR EACH BUILDING\n",
    "for bldg in buildings:\n",
    "    historical_outdoor_temperature = xbos_services_getter.get_outdoor_temperature_historic(outdoor_temperature_historical_stub,bldg,start,end,window)\n",
    "    print(bldg)\n",
    "    print(historical_outdoor_temperature)\n"
   ]
  },
  {
   "cell_type": "code",
   "execution_count": null,
   "metadata": {},
   "outputs": [],
   "source": []
  },
  {
   "cell_type": "code",
   "execution_count": null,
   "metadata": {},
   "outputs": [],
   "source": [
    "# GET HISTORICAL HVAC DATA FOR EACH ZONE IN EACH BUILDING \n",
    "# INDOOR TEMPERATURE, HVAC STATE, COOLING SETPOINT, HEATING SETPOING\n",
    "for bldg in buildings:\n",
    "    zones = xbos_services_getter.get_zones(building_zone_names_stub,bldg)\n",
    "    for zone in zones:\n",
    "        actions = xbos_services_getter.get_actions_historic(indoor_data_historical_stub,bldg,zone,start,end,window)\n",
    "        indoor_temperatures = xbos_services_getter.get_indoor_temperature_historic(indoor_data_historical_stub,bldg,zone,start,end,window)\n",
    "        setpoints = xbos_services_getter.get_setpoints_historic(indoor_data_historical_stub,bldg,zone,start,end,window)\n",
    "        print(bldg,zone)\n",
    "        print(actions)\n",
    "        print(indoor_temperatures)\n",
    "        print(setpoints[\"t_low\"])\n",
    "        print(setpoints[\"t_high\"])"
   ]
  },
  {
   "cell_type": "code",
   "execution_count": null,
   "metadata": {},
   "outputs": [],
   "source": [
    "# GET OCCUPANCY FOR EACH ZONE IN EACH BUILDING\n",
    "for bldg in buildings:\n",
    "    zones = xbos_services_getter.get_zones(building_zone_names_stub,bldg)\n",
    "    for zone in zones:\n",
    "        occupancy = xbos_services_getter.get_occupancy(occupancy_stub,bldg,zone,start,end,window)\n",
    "        print(bldg,zone)\n",
    "        print(occupancy)"
   ]
  },
  {
   "cell_type": "code",
   "execution_count": null,
   "metadata": {},
   "outputs": [],
   "source": [
    "# GET COMFORT BAND AND DO NOT EXCEED BAND FOR EACH ZONE IN EACH BUILDING\n",
    "for bldg in buildings:\n",
    "    zones = xbos_services_getter.get_zones(building_zone_names_stub,bldg)\n",
    "    for zone in zones:\n",
    "        comfort_band = xbos_services_getter.get_comfortband(temperature_bands_stub,bldg,zone,start,end,window)\n",
    "        do_not_exceed_band = xbos_services_getter.get_do_not_exceed(temperature_bands_stub,bldg,zone,start,end,window)\n",
    "        print(bldg,zone)\n",
    "        print(comfort_band)\n",
    "        print(do_not_exceed_band)"
   ]
  },
  {
   "cell_type": "code",
   "execution_count": null,
   "metadata": {},
   "outputs": [],
   "source": [
    "# GET A DISCOMFORT METRIC FOR A GIVEN TEMPERATURE AND A GIVEN COMFORT BAND\n",
    "temperature = 90.0 # Current temperature\n",
    "temperature_low = 60 # \n",
    "temperature_high = 80\n",
    "occupancy = 0.5 # 0.0 -> 1.0\n",
    "discomfort = xbos_services_getter.get_discomfort(discomfort_stub,'bldg',temperature,temperature_low,temperature_high,occupancy)\n",
    "print(discomfort)"
   ]
  },
  {
   "cell_type": "code",
   "execution_count": null,
   "metadata": {},
   "outputs": [],
   "source": [
    "# GET HVAC CONSUMPTION FOR A GIVEN ZONE IN A GIVEN BUILDING\n",
    "for bldg in buildings:\n",
    "    zones = xbos_services_getter.get_zones(building_zone_names_stub,bldg)\n",
    "    for zone in zones:\n",
    "        hvac_consumption = xbos_services_getter.get_hvac_consumption(hvac_consumption_stub,bldg,zone)\n",
    "        print(bldg,zone,hvac_consumption)"
   ]
  },
  {
   "cell_type": "code",
   "execution_count": null,
   "metadata": {},
   "outputs": [],
   "source": [
    "# GET INDOOR TEMPERATURE PREDICTION FOR A ZONE IN A BUILDING GIVEN AN ACTION \n",
    "# (1-2 STAGE HEATING, 1-2 STAGAE COOLING, DO NOTHING)\n",
    "\n",
    "action = 0 # 0, 1, 2, 3, 4\n",
    "for bldg in buildings:\n",
    "    outdoor_temperatures = xbos_services_getter.get_outdoor_temperature_historic(outdoor_temperature_historical_stub,bldg,start,end,window)\n",
    "    outdoor_temperature = outdoor_temperatures[1]  \n",
    "    zones = xbos_services_getter.get_zones(building_zone_names_stub,bldg)\n",
    "    current_zones_temp = {}\n",
    "    prev_zones_temp = {}\n",
    "    for zone in zones:\n",
    "        indoor_temp = xbos_services_getter.get_indoor_temperature_historic(indoor_data_historical_stub,bldg,zone,start,end,window)\n",
    "        prev_zones_temp[zone] = indoor_temp[0]\n",
    "        current_zones_temp[zone]= indoor_temp[1]\n",
    "    for zone in zones:\n",
    "        # THESE BUILDINGS DON'T HAVE A THERMAL MODEL\n",
    "        if(bldg=='csu-dominguez-hills' or bldg=='local-butcher-shop' or bldg=='avenal-recreation-center'):\n",
    "            continue\n",
    "        print(bldg,zone)\n",
    "        temperature_prediction = xbos_services_getter.get_indoor_temperature_prediction(indoor_temperature_prediction_stub,bldg,zone,start,action,current_zones_temp[zone],outdoor_temperature,prev_zones_temp[zone],current_zones_temp)\n",
    "        print(temperature_prediction)"
   ]
  },
  {
   "cell_type": "code",
   "execution_count": null,
   "metadata": {
    "collapsed": true
   },
   "outputs": [],
   "source": [
    "# TODO: USE OPTIMIZER with xbos-service getter"
   ]
  }
 ],
 "metadata": {
  "kernelspec": {
   "display_name": "Python 3",
   "language": "python",
   "name": "python3"
  },
  "language_info": {
   "codemirror_mode": {
    "name": "ipython",
    "version": 3
   },
   "file_extension": ".py",
   "mimetype": "text/x-python",
   "name": "python",
   "nbconvert_exporter": "python",
   "pygments_lexer": "ipython3",
   "version": "3.6.1"
  }
 },
 "nbformat": 4,
 "nbformat_minor": 2
}
