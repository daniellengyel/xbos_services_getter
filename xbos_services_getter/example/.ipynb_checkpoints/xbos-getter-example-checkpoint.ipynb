{
 "cells": [
  {
   "cell_type": "code",
   "execution_count": 1,
   "metadata": {},
   "outputs": [],
   "source": [
    "import datetime\n",
    "import pytz\n",
    "import xbos_services_getter"
   ]
  },
  {
   "cell_type": "code",
   "execution_count": 2,
   "metadata": {},
   "outputs": [],
   "source": [
    "# HOST_ADDRESSES FOR ALL MICROSERVICES\n",
    "# SOON WILL BE REPLACED WITH ONE ADDRESS\n",
    "# NEED TO ONLY DEFINE THE ADDRESS FOR THE SERVICES YOU USE\n",
    "DISCOMFORT_HOST_ADDRESS=None #\"FILL_ME_IN\"\n",
    "HVAC_CONSUMPTION_HOST_ADDRESS=None #\"FILL_ME_IN\"\n",
    "TEMPERATURE_BANDS_HOST_ADDRESS=None #\"FILL_ME_IN\"\n",
    "PRICE_HOST_ADDRESS=None #\"FILL_ME_IN\"\n",
    "OCCUPANCY_HOST_ADDRESS=None #\"FILL_ME_IN\"\n",
    "OUTDOOR_TEMPERATURE_HISTORICAL_HOST_ADDRESS=None #\"FILL_ME_IN\"\n",
    "BUILDING_ZONE_NAMES_HOST_ADDRESS=None #\"FILL_ME_IN\"\n",
    "INDOOR_DATA_HISTORICAL_HOST_ADDRESS=None #\"FILL_ME_IN\"\n",
    "INDOOR_TEMPERATURE_PREDICTION_HOST_ADDRESS=None #\"FILL_ME_IN\"\n",
    "METER_DATA_HISTORICAL_HOST_ADDRESS=None #\"FILL_ME_IN\"\n",
    "OPTIMIZER_HOST_ADDRESS=None #\"FILL_ME_IN\""
   ]
  },
  {
   "cell_type": "code",
   "execution_count": 3,
   "metadata": {},
   "outputs": [],
   "source": [
    "# CREATE A STUB TO EACH MICROSERVICE THAT YOU USE\n",
    "# THIS STUB ONLY GETS CALLED ONCE TO ESTABLISH A CONNECTION TO THE SERVICE\n",
    "discomfort_stub = xbos_services_getter.get_discomfort_stub(DISCOMFORT_HOST_ADDRESS)\n",
    "hvac_consumption_stub = xbos_services_getter.get_hvac_consumption_stub(HVAC_CONSUMPTION_HOST_ADDRESS)\n",
    "temperature_bands_stub = xbos_services_getter.get_temperature_band_stub(TEMPERATURE_BANDS_HOST_ADDRESS)\n",
    "price_stub = xbos_services_getter.get_price_stub(PRICE_HOST_ADDRESS)\n",
    "occupancy_stub = xbos_services_getter.get_occupancy_stub(OCCUPANCY_HOST_ADDRESS)\n",
    "outdoor_temperature_historical_stub = xbos_services_getter.get_outdoor_historic_stub(OUTDOOR_TEMPERATURE_HISTORICAL_HOST_ADDRESS)\n",
    "building_zone_names_stub = xbos_services_getter.get_building_zone_names_stub(BUILDING_ZONE_NAMES_HOST_ADDRESS)\n",
    "indoor_data_historical_stub = xbos_services_getter.get_indoor_historic_stub(INDOOR_DATA_HISTORICAL_HOST_ADDRESS)\n",
    "indoor_temperature_prediction_stub = xbos_services_getter.get_indoor_temperature_prediction_stub(INDOOR_TEMPERATURE_PREDICTION_HOST_ADDRESS)\n",
    "meter_data_historical_stub = xbos_services_getter.get_meter_data_historical_stub(METER_DATA_HISTORICAL_HOST_ADDRESS)\n",
    "# optimizer_stub = xbos_services_getter.get_optimizer_stub(OPTIMIZER_HOST_ADDRESS)"
   ]
  },
  {
   "cell_type": "code",
   "execution_count": 4,
   "metadata": {},
   "outputs": [
    {
     "name": "stdout",
     "output_type": "stream",
     "text": [
      "List of buildings: ['jesse-turner-center', 'ciee', 'csu-dominguez-hills', 'hayward-station-8', 'avenal-movie-theatre', 'word-of-faith-cc', 'hayward-station-1', 'avenal-veterans-hall', 'avenal-animal-shelter', 'south-berkeley-senior-center', 'local-butcher-shop', 'avenal-recreation-center', 'orinda-community-center', 'avenal-public-works-yard', 'north-berkeley-senior-center', 'berkeley-corporate-yard']\n",
      "List of zones in building: jesse-turner-center are: ['hvac_zone_resource_center', 'hvac_zone_class_132', 'hvac_zone_meeting_room_122', 'hvac_zone_multi_purpose_147', 'hvac_zone_fitness_room_138', 'hvac_zone_assembly_112', 'hvac_zone_basketball_court_2', 'hvac_zone_basketball_court_6', 'hvac_zone_basketball_court_5', 'hvac_zone_lobby', 'hvac_zone_basketball_court_3', 'hvac_zone_control_desk', 'hvac_zone_foyer_gallery', 'hvac_zone_assembly_113', 'hvac_zone_class_131', 'hvac_zone_front_entrance', 'hvac_zone_office_room_148', 'hvac_zone_basketball_court_4', 'hvac_zone_dance_room_109', 'hvac_zone_back_stage', 'hvac_zone_basketball_court_1', 'hvac_zone_kitchen', 'hvac_zone_assembly_111', 'hvac_zone_electrical_room123']\n",
      "List of zones in building: ciee are: ['hvac_zone_centralzone', 'hvac_zone_eastzone', 'hvac_zone_northzone', 'hvac_zone_southzone']\n",
      "List of zones in building: csu-dominguez-hills are: ['hvac_zone_sac_2101', 'hvac_zone_sac_2114', 'hvac_zone_sac_2150', 'hvac_zone_sac_2126', 'hvac_zone_sac_2113a', 'hvac_zone_sac_2104', 'hvac_zone_sac_2_corridor', 'hvac_zone_sac_2106', 'hvac_zone_sac_2129', 'hvac_zone_sac_2107', 'hvac_zone_sac_2113', 'hvac_zone_sac_2149', 'hvac_zone_sac_2102', 'hvac_zone_sac_2103', 'hvac_zone_sac_2144', 'hvac_zone_sac_2105', 'hvac_zone_sac_2134']\n",
      "List of zones in building: hayward-station-8 are: ['hvac_zone_f_3', 'hvac_zone_f_1', 'hvac_zone_f_2']\n",
      "List of zones in building: avenal-movie-theatre are: ['hvac_zone_lobby', 'hvac_zone_main_hallway', 'hvac_zone_room_a', 'hvac_zone_theater_2', 'hvac_zone_back_hallway', 'hvac_zone_room_d', 'hvac_zone_pegasus_hall', 'hvac_zone_theater_1']\n",
      "List of zones in building: word-of-faith-cc are: ['hvac_zone_hospitality', 'hvac_zone_fellowship_hall', 'hvac_zone_lobby', 'hvac_zone_sanctuary_lb_2', 'hvac_zone_sanctuary_rf_2', 'hvac_zone_school_age_rm', 'hvac_zone_pre_k_classroom']\n",
      "List of zones in building: hayward-station-1 are: ['hvac_zone_ac_2', 'hvac_zone_ac_3', 'hvac_zone_ac_4', 'hvac_zone_ac_5', 'hvac_zone_ac_6', 'hvac_zone_ac_7', 'hvac_zone_ac_1']\n",
      "List of zones in building: avenal-veterans-hall are: ['hvac_zone_ac_3', 'hvac_zone_ac_1', 'hvac_zone_ac_4', 'hvac_zone_ac_6', 'hvac_zone_ac_5', 'hvac_zone_ac_2']\n",
      "List of zones in building: avenal-animal-shelter are: ['hvac_zone_shelter_corridor']\n",
      "List of zones in building: south-berkeley-senior-center are: ['hvac_zone_ac_2', 'hvac_zone_ac_3', 'hvac_zone_front_office']\n",
      "List of zones in building: local-butcher-shop are: ['hvac_zone_retail_space']\n",
      "List of zones in building: avenal-recreation-center are: ['hvac_zone_large_room', 'hvac_zone_tech_center']\n",
      "List of zones in building: orinda-community-center are: ['hvac_zone_ac_7', 'hvac_zone_rm7', 'hvac_zone_kinder_gym', 'hvac_zone_ac_6', 'hvac_zone_ac_3', 'hvac_zone_rm1', 'hvac_zone_ac_4', 'hvac_zone_ac_5', 'hvac_zone_rm6', 'hvac_zone_ac_1', 'hvac_zone_front_office', 'hvac_zone_ac_2', 'hvac_zone_rm2', 'hvac_zone_ac_8']\n",
      "List of zones in building: avenal-public-works-yard are: ['hvac_zone_public_works']\n",
      "List of zones in building: north-berkeley-senior-center are: ['hvac_zone_ac_1', 'hvac_zone_ac_3', 'hvac_zone_ac_5']\n",
      "List of zones in building: berkeley-corporate-yard are: ['hvac_zone_parks_assembly', 'hvac_zone_radioshop', 'hvac_zone_s_and_u_open_office', 'hvac_zone_scott_britt_rm', 'hvac_zone_cs_open_office', 'hvac_zone_electricalshop', 'hvac_zone_fac_main_dept', 'hvac_zone_green_room']\n",
      "All buildings and zones: {'jesse-turner-center': ['hvac_zone_resource_center', 'hvac_zone_class_132', 'hvac_zone_meeting_room_122', 'hvac_zone_multi_purpose_147', 'hvac_zone_fitness_room_138', 'hvac_zone_assembly_112', 'hvac_zone_basketball_court_2', 'hvac_zone_basketball_court_6', 'hvac_zone_basketball_court_5', 'hvac_zone_lobby', 'hvac_zone_basketball_court_3', 'hvac_zone_control_desk', 'hvac_zone_foyer_gallery', 'hvac_zone_assembly_113', 'hvac_zone_class_131', 'hvac_zone_front_entrance', 'hvac_zone_office_room_148', 'hvac_zone_basketball_court_4', 'hvac_zone_dance_room_109', 'hvac_zone_back_stage', 'hvac_zone_basketball_court_1', 'hvac_zone_kitchen', 'hvac_zone_assembly_111', 'hvac_zone_electrical_room123'], 'ciee': ['hvac_zone_centralzone', 'hvac_zone_eastzone', 'hvac_zone_northzone', 'hvac_zone_southzone'], 'csu-dominguez-hills': ['hvac_zone_sac_2101', 'hvac_zone_sac_2114', 'hvac_zone_sac_2150', 'hvac_zone_sac_2126', 'hvac_zone_sac_2113a', 'hvac_zone_sac_2104', 'hvac_zone_sac_2_corridor', 'hvac_zone_sac_2106', 'hvac_zone_sac_2129', 'hvac_zone_sac_2107', 'hvac_zone_sac_2113', 'hvac_zone_sac_2149', 'hvac_zone_sac_2102', 'hvac_zone_sac_2103', 'hvac_zone_sac_2144', 'hvac_zone_sac_2105', 'hvac_zone_sac_2134'], 'hayward-station-8': ['hvac_zone_f_3', 'hvac_zone_f_1', 'hvac_zone_f_2'], 'avenal-movie-theatre': ['hvac_zone_lobby', 'hvac_zone_main_hallway', 'hvac_zone_room_a', 'hvac_zone_theater_2', 'hvac_zone_back_hallway', 'hvac_zone_room_d', 'hvac_zone_pegasus_hall', 'hvac_zone_theater_1'], 'word-of-faith-cc': ['hvac_zone_hospitality', 'hvac_zone_fellowship_hall', 'hvac_zone_lobby', 'hvac_zone_sanctuary_lb_2', 'hvac_zone_sanctuary_rf_2', 'hvac_zone_school_age_rm', 'hvac_zone_pre_k_classroom'], 'hayward-station-1': ['hvac_zone_ac_2', 'hvac_zone_ac_3', 'hvac_zone_ac_4', 'hvac_zone_ac_5', 'hvac_zone_ac_6', 'hvac_zone_ac_7', 'hvac_zone_ac_1'], 'avenal-veterans-hall': ['hvac_zone_ac_3', 'hvac_zone_ac_1', 'hvac_zone_ac_4', 'hvac_zone_ac_6', 'hvac_zone_ac_5', 'hvac_zone_ac_2'], 'avenal-animal-shelter': ['hvac_zone_shelter_corridor'], 'south-berkeley-senior-center': ['hvac_zone_ac_2', 'hvac_zone_ac_3', 'hvac_zone_front_office'], 'local-butcher-shop': ['hvac_zone_retail_space'], 'avenal-recreation-center': ['hvac_zone_large_room', 'hvac_zone_tech_center'], 'orinda-community-center': ['hvac_zone_ac_7', 'hvac_zone_rm7', 'hvac_zone_kinder_gym', 'hvac_zone_ac_6', 'hvac_zone_ac_3', 'hvac_zone_rm1', 'hvac_zone_ac_4', 'hvac_zone_ac_5', 'hvac_zone_rm6', 'hvac_zone_ac_1', 'hvac_zone_front_office', 'hvac_zone_ac_2', 'hvac_zone_rm2', 'hvac_zone_ac_8'], 'avenal-public-works-yard': ['hvac_zone_public_works'], 'north-berkeley-senior-center': ['hvac_zone_ac_1', 'hvac_zone_ac_3', 'hvac_zone_ac_5'], 'berkeley-corporate-yard': ['hvac_zone_parks_assembly', 'hvac_zone_radioshop', 'hvac_zone_s_and_u_open_office', 'hvac_zone_scott_britt_rm', 'hvac_zone_cs_open_office', 'hvac_zone_electricalshop', 'hvac_zone_fac_main_dept', 'hvac_zone_green_room']}\n"
     ]
    }
   ],
   "source": [
    "# GET A LIST OF ALL BUILDINGS \n",
    "buildings = xbos_services_getter.get_buildings(building_zone_names_stub)\n",
    "print(\"List of buildings:\",buildings)\n",
    "\n",
    "# GET ALL ZONES FOR EACH BUILDING\n",
    "for bldg in buildings:\n",
    "    zones = xbos_services_getter.get_zones(building_zone_names_stub,bldg)\n",
    "    print(\"List of zones in building:\",bldg,\"are:\",zones)\n",
    "    \n",
    "# ALTERNATIVELY YOU CAN GET A DICTIONARY OF ALL BUILDINGS AND ZONES WITH ONE CALL\n",
    "buildings_zones = xbos_services_getter.get_all_buildings_zones(building_zone_names_stub)\n",
    "print(\"All buildings and zones:\",buildings_zones)"
   ]
  },
  {
   "cell_type": "code",
   "execution_count": 5,
   "metadata": {},
   "outputs": [],
   "source": [
    "# EXAMPLE TO RETRIEVE DATA FOR ONE DAY AT ONE HOUR INTERVAL STARTING JAN 1ST 2019\n",
    "start = pytz.timezone('US/Pacific').localize(datetime.datetime(year=2019, month=1, day=1, hour=0, minute=0))\n",
    "end = start + datetime.timedelta(days=1)\n",
    "window = \"1h\""
   ]
  },
  {
   "cell_type": "code",
   "execution_count": null,
   "metadata": {},
   "outputs": [],
   "source": [
    "# TODO: DOES NOT WORK \"Exception calling application: no such table: view_meter\"\n",
    "# GET HISTORICAL BUILDING METER & GREENBUTTON DATA FOR EACH BUILDING\n",
    "# MEAN, MAX, MIN, COUNT, SUM and RAW\n",
    "# start = '2019-01-01T00:00:00Z'\n",
    "# end = '2019-01-02T00:00:00Z'\n",
    "electric_point_type = 'Building_Electric_Meter'\n",
    "greenbutton_point_type = 'Green_Button_Meter'\n",
    "aggregate = 'MEAN' # MEAN, MAX, MIN, COUNT, SUM and RAW\n",
    "for bldg in buildings:\n",
    "    if bldg == \"jesse-turner-center\" or bldg == \"csu-dominguez-hills\" or bldg == \"word-of-faith-cc\":\n",
    "        continue\n",
    "    print(bldg)\n",
    "    print(start,end)\n",
    "    electric_meter_data = xbos_services_getter.get_meter_data_historical(meter_data_historical_stub,bldg,start,end,electric_point_type,aggregate,window)\n",
    "    greenbutton_meter_data = xbos_services_getter.get_meter_data_historical(meter_data_historical_stub,bldg,start,end,greenbutton_point_type,aggregate,window)\n",
    "    print(electric_meter_data)\n",
    "    print(greenbutton_meter_data)"
   ]
  },
  {
   "cell_type": "code",
   "execution_count": null,
   "metadata": {},
   "outputs": [],
   "source": [
    "# GET HISTORICAL OR FORECAST PRICE FOR EACH BUILDING (UP TO 24 HOURS IN THE FUTURE)\n",
    "# TODO: DOES NOT WORK address fails to bind\n",
    "# GET THE TARIFF AND UTILITY FOR A GIVEN BUILDING\n",
    "for bldg in buildings:\n",
    "    print(bldg)\n",
    "    tariff_util = xbos_services_getter.get_tariff_and_utility(price_stub,bldg)\n",
    "    print(bldg,tariff_util)\n",
    "\n",
    "# GET THE HISTORICAL PRICE FOR A GIVEN TARIFF AND UTILITY\n",
    "# TODO return all available tariffs and utilities \n",
    "# TODO expose these calls in xbos_services_getter\n",
    "# xbos_services_getter.get_price_utility_tariff()\n",
    "\n",
    "# YOU CAN ALSO GET THE PRICE FOR A GIVEN BUILDING DIRECTLY\n",
    "energy_price_type = 'ENERGY' \n",
    "demand_price_type = 'DEMAND'\n",
    "for bldg in buildings:\n",
    "    energy_price = xbos_services_getter.get_price(price_stub,bldg,energy_price_type,start,end,window)\n",
    "    demand_price = xbos_services_getter.get_price(price_stub,bldg,demand_price_type,start,end,window)\n",
    "    print(bldg)\n",
    "    print(energy_price)\n",
    "    print(demand_price)"
   ]
  },
  {
   "cell_type": "code",
   "execution_count": null,
   "metadata": {},
   "outputs": [],
   "source": [
    "# GET HISTORICAL OUTDOOR TEMPERATURE FOR EACH BUILDING\n",
    "for bldg in buildings:\n",
    "    historical_outdoor_temperature = xbos_services_getter.get_outdoor_temperature_historic(outdoor_temperature_historical_stub,bldg,start,end,window)\n",
    "    print(bldg)\n",
    "    print(historical_outdoor_temperature)\n"
   ]
  },
  {
   "cell_type": "code",
   "execution_count": null,
   "metadata": {},
   "outputs": [],
   "source": [
    "# GET HISTORICAL HVAC DATA FOR EACH ZONE IN EACH BUILDING \n",
    "# INDOOR TEMPERATURE, HVAC STATE, COOLING SETPOINT, HEATING SETPOING\n",
    "for bldg in buildings:\n",
    "    zones = xbos_services_getter.get_zones(building_zone_names_stub,bldg)\n",
    "    for zone in zones:\n",
    "        actions = xbos_services_getter.get_actions_historic(indoor_data_historical_stub,bldg,zone,start,end,window)\n",
    "        indoor_temperatures = xbos_services_getter.get_indoor_temperature_historic(indoor_data_historical_stub,bldg,zone,start,end,window)\n",
    "        #TODO add heating and cooling setpoints to microservice and to xbos-service-getter\n",
    "        setpoints = xbos_services_getter.get_setpoints_historic(indoor_data_historical_stub,bldg,zone,start,end,window)\n",
    "        print(bldg,zone)\n",
    "#         print(actions)\n",
    "#         print(indoor_temperatures)\n",
    "        print(setpoints)\n",
    "#         print(cooling_setpoints)"
   ]
  },
  {
   "cell_type": "code",
   "execution_count": null,
   "metadata": {},
   "outputs": [],
   "source": [
    "# GET OCCUPANCY FOR EACH ZONE IN EACH BUILDING\n",
    "for bldg in buildings:\n",
    "    zones = xbos_services_getter.get_zones(building_zone_names_stub,bldg)\n",
    "    for zone in zones:\n",
    "        occupancy = xbos_services_getter.get_occupancy(occupancy_stub,bldg,zone,start,end,window)\n",
    "        print(bldg,zone)\n",
    "        print(occupancy)"
   ]
  },
  {
   "cell_type": "code",
   "execution_count": null,
   "metadata": {},
   "outputs": [],
   "source": [
    "# GET COMFORT BAND AND DO NOT EXCEED BAND FOR EACH ZONE IN EACH BUILDING\n",
    "for bldg in buildings:\n",
    "    zones = xbos_services_getter.get_zones(building_zone_names_stub,bldg)\n",
    "    for zone in zones:\n",
    "        comfort_band = xbos_services_getter.get_comfortband(temperature_bands_stub,bldg,zone,start,end,window)\n",
    "        do_not_exceed_band = xbos_services_getter.get_do_not_exceed(temperature_bands_stub,bldg,zone,start,end,window)\n",
    "        print(bldg,zone)\n",
    "        print(comfort_band)\n",
    "        print(do_not_exceed_band)"
   ]
  },
  {
   "cell_type": "code",
   "execution_count": null,
   "metadata": {},
   "outputs": [],
   "source": [
    "# GET A DISCOMFORT METRIC FOR A GIVEN TEMPERATURE AND A GIVEN COMFORT BAND\n",
    "# TODO why do you require a building name as input??\n",
    "temperature = 90.0 # Current temperature\n",
    "temperature_low = 60 # \n",
    "temperature_high = 80\n",
    "occupancy = 0.5 # 0.0 -> 1.0\n",
    "discomfort = xbos_services_getter.get_discomfort(discomfort_stub,'bldg',temperature,temperature_low,temperature_high,occupancy)\n",
    "print(discomfort)"
   ]
  },
  {
   "cell_type": "code",
   "execution_count": null,
   "metadata": {},
   "outputs": [],
   "source": [
    "# GET HVAC CONSUMPTION FOR A GIVEN ZONE IN A GIVEN BUILDING\n",
    "for bldg in buildings:\n",
    "    zones = xbos_services_getter.get_zones(building_zone_names_stub,bldg)\n",
    "    for zone in zones:\n",
    "        hvac_consumption = xbos_services_getter.get_hvac_consumption(hvac_consumption_stub,bldg,zone)\n",
    "        print(bldg,zone,hvac_consumption)"
   ]
  },
  {
   "cell_type": "code",
   "execution_count": null,
   "metadata": {},
   "outputs": [],
   "source": [
    "# GET INDOOR TEMPERATURE PREDICTION FOR A ZONE IN A BUILDING GIVEN AN ACTION \n",
    "# (1-2 STAGE HEATING, 1-2 STAGAE COOLING, DO NOTHING)\n",
    "\n",
    "action = 0 # 0, 1, 2, 3, 4\n",
    "for bldg in buildings:\n",
    "    outdoor_temperatures = xbos_services_getter.get_outdoor_temperature_historic(outdoor_temperature_historical_stub,bldg,start,end,window)\n",
    "    outdoor_temperature = outdoor_temperatures[1]  \n",
    "    zones = xbos_services_getter.get_zones(building_zone_names_stub,bldg)\n",
    "    current_zones_temp = {}\n",
    "    prev_zones_temp = {}\n",
    "    for zone in zones:\n",
    "        indoor_temp = xbos_services_getter.get_indoor_temperature_historic(indoor_data_historical_stub,bldg,zone,start,end,window)\n",
    "        prev_zones_temp[zone] = indoor_temp[0]\n",
    "        current_zones_temp[zone]= indoor_temp[1]\n",
    "    for zone in zones:\n",
    "        # THESE BUILDINGS DON'T HAVE A THERMAL MODEL\n",
    "        if(bldg=='csu-dominguez-hills' or bldg=='local-butcher-shop' or bldg=='avenal-recreation-center'):\n",
    "            continue\n",
    "        print(bldg,zone)\n",
    "        temperature_prediction = xbos_services_getter.get_indoor_temperature_prediction(indoor_temperature_prediction_stub,bldg,zone,start,action,current_zones_temp[zone],outdoor_temperature,prev_zones_temp[zone],current_zones_temp)\n",
    "        temperature_error_mean, temperature_error_var = xbos_services_getter.get_indoor_temperature_prediction_error(indoor_data_historical_stub, bldg, zone, action, start, end)\n",
    "        print(temperature_prediction)\n",
    "        print(\"Mean error\", temperature_error_mean)\n",
    "        print(\"Var error\", temperature_error_var)\n",
    "        \n",
    "        "
   ]
  },
  {
   "cell_type": "code",
   "execution_count": null,
   "metadata": {},
   "outputs": [],
   "source": [
    "# \n",
    "# TODO: USE OPTIMIZER with xbos-service getter"
   ]
  }
 ],
 "metadata": {
  "kernelspec": {
   "display_name": "Python (venv-dr3)\n",
   "language": "python",
   "name": "venv-dr3"
  },
  "language_info": {
   "codemirror_mode": {
    "name": "ipython",
    "version": 3
   },
   "file_extension": ".py",
   "mimetype": "text/x-python",
   "name": "python",
   "nbconvert_exporter": "python",
   "pygments_lexer": "ipython3",
   "version": "3.6.8"
  }
 },
 "nbformat": 4,
 "nbformat_minor": 2
}
